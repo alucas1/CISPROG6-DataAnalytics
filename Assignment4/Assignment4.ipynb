{
 "cells": [
  {
   "cell_type": "markdown",
   "id": "092003f3-09b6-4861-958e-adae817d537e",
   "metadata": {
    "tags": []
   },
   "source": [
    "<h1>Assignment 4</h1>"
   ]
  },
  {
   "cell_type": "markdown",
   "id": "3d0c0db6-3b8a-40c2-ae92-2dea01ae1189",
   "metadata": {
    "tags": []
   },
   "source": [
    "<p>\n",
    "    Name: Alberto Lucas <br>\n",
    "    Class: Cisprog-6<br>\n",
    "    Date: 11/29/2021 <br>\n",
    "    Description: Contains solutions to questions in assignment 4. Cleans a CSV file named olympics.csv in a <br>\n",
    "    step-by-step process.\n",
    "</p>\n",
    "<hr>"
   ]
  },
  {
   "cell_type": "code",
   "execution_count": 1,
   "id": "f0a9c18d-f526-49eb-9c1c-ae49b2631c73",
   "metadata": {},
   "outputs": [],
   "source": [
    "import pandas as pd"
   ]
  },
  {
   "cell_type": "code",
   "execution_count": 2,
   "id": "7e303c99-9fc0-4fa7-a09f-8a1bebc79b41",
   "metadata": {},
   "outputs": [],
   "source": [
    "# Load dataset\n",
    "filename = \"olympics\"\n",
    "df = pd.read_csv(filename + \".csv\")"
   ]
  },
  {
   "cell_type": "markdown",
   "id": "1532d5b9-d3d6-4d7b-815c-d33bc2668074",
   "metadata": {},
   "source": [
    "<p>\n",
    "    <br>\n",
    "    <strong> 1)</strong> The following code fixes the names of the columns in the dataframe. This is done by replacing the first row       <br>of numbers with the actual names of the columns. It also gives the columns with countries the name of      \"Country\"\n",
    "</p>\n",
    "<hr>"
   ]
  },
  {
   "cell_type": "code",
   "execution_count": 3,
   "id": "d38a4fcc-578b-4775-9676-bf04d6ce5963",
   "metadata": {},
   "outputs": [],
   "source": [
    "updatedColNames = df.iloc[0] # save the first row in the df (column names)\n",
    "df = df[1:] # Remove the header row from the df\n",
    "df.columns = updatedColNames # Set the saved column name list as the new column names\n",
    "df.rename(columns={ df.columns[0]: \"Country\" }, inplace = True)"
   ]
  },
  {
   "cell_type": "markdown",
   "id": "11ff3687-fbd5-4b36-97df-ca14cb3ed427",
   "metadata": {
    "jp-MarkdownHeadingCollapsed": true,
    "tags": []
   },
   "source": [
    "<p>\n",
    "    <br>\n",
    "    <strong> 2)</strong> The following code replaces empty values with '0' <br>\n",
    "    Empty values are assumed to be 0 wins, making the data consistent with the other cells\n",
    "</p>\n",
    "<hr>"
   ]
  },
  {
   "cell_type": "code",
   "execution_count": 4,
   "id": "4fa11cf0-75e9-4d03-b4cf-f6ba66688a09",
   "metadata": {},
   "outputs": [],
   "source": [
    "df.fillna(0, inplace = True) "
   ]
  },
  {
   "cell_type": "markdown",
   "id": "debcfc78-b6ac-4c70-a5f8-d6766531fa59",
   "metadata": {},
   "source": [
    "<p>\n",
    "    <br>\n",
    "    <strong> 3)</strong> The following code removes duplicate rows from the data <br>\n",
    "</p>\n",
    "<hr>"
   ]
  },
  {
   "cell_type": "code",
   "execution_count": 5,
   "id": "4850f6bf-1d44-4913-9944-84df5a9e19cf",
   "metadata": {},
   "outputs": [],
   "source": [
    "df.drop_duplicates(inplace = True) "
   ]
  },
  {
   "cell_type": "markdown",
   "id": "50a27454-b9b3-4dfe-9c4d-d75a507eadc0",
   "metadata": {},
   "source": [
    "<p>\n",
    "    <br>\n",
    "    <strong> 4)</strong> The following code removes rows where the total olympic wins are 0, as they do not contribute to the <br>\n",
    "    running sum in the final row.\n",
    "</p>\n",
    "<hr>"
   ]
  },
  {
   "cell_type": "code",
   "execution_count": 6,
   "id": "b0fac0c7-71e1-4284-9433-fdbd49cbd1d2",
   "metadata": {},
   "outputs": [],
   "source": [
    "df = df[df['Combined total'] != 0]"
   ]
  },
  {
   "cell_type": "markdown",
   "id": "616ed03a-b237-43f1-8c9d-872089e836fa",
   "metadata": {},
   "source": [
    "<p>\n",
    "    <br>\n",
    "    <strong> 5)</strong> The following code updates the column names by removing the '?' and '!' chars. This <br> \n",
    "    will make it easier to refer to the columns in the code.\n",
    "</p>\n",
    "<hr>"
   ]
  },
  {
   "cell_type": "code",
   "execution_count": 7,
   "id": "669a5c34-8c2a-4caa-ba6b-ba8b44d3f918",
   "metadata": {},
   "outputs": [],
   "source": [
    "df.columns = ['Country', 'Summer', '01s', '02s', '03s', 'Total s', 'Winter', '01w', '02w', '03w', 'Total w', 'Games', '01g', '02g', '03g', 'Combined total']"
   ]
  },
  {
   "cell_type": "markdown",
   "id": "6ed516f0-522e-490b-a139-5f27603d101f",
   "metadata": {},
   "source": [
    "<p>\n",
    "    <br>\n",
    "    <strong> 6)</strong> The following code corrects the data types of all the values in the columns to ints. By<br>\n",
    "    doing so, math can be applied to the data.\n",
    "</p>\n",
    "<hr>"
   ]
  },
  {
   "cell_type": "code",
   "execution_count": 8,
   "id": "d496c892-bfe8-4112-a6be-5ae9074fbc5b",
   "metadata": {},
   "outputs": [],
   "source": [
    "df = df.astype({'Summer':int, '01s':int, '02s':int, '03s':int, 'Total s':int, 'Winter':int, '01w':int, '02w':int, '03w':int, 'Total w':int, 'Games':int, '01g':int, '02g':int, '03g':int, 'Combined total':int})"
   ]
  },
  {
   "cell_type": "markdown",
   "id": "667a4ffd-51f4-4bcd-b02f-0e46dee1765d",
   "metadata": {},
   "source": [
    "<p>\n",
    "    <br>\n",
    "    <strong> 7)</strong> The following code corrects the last row with the updated totals. The old row is deleted <br> and a new row with updated totals is added\n",
    "<hr>"
   ]
  },
  {
   "cell_type": "code",
   "execution_count": 9,
   "id": "a3a39eba-5d6d-407b-aff0-3fdcd6a85447",
   "metadata": {},
   "outputs": [],
   "source": [
    "df.drop(df.tail(1).index,inplace=True)\n",
    "df.loc['Total']= df.sum(numeric_only=True, axis=0)"
   ]
  },
  {
   "cell_type": "markdown",
   "id": "c36831e8-c2c9-4a58-a74a-a4ce7caa71c7",
   "metadata": {},
   "source": [
    "<p>\n",
    "    <br>\n",
    "    <strong> 8)</strong> The following code corrects the last row with the updated totals. The old totals column <br>\n",
    "    is deleted and a new one is added with updated totals.\n",
    "<hr>"
   ]
  },
  {
   "cell_type": "code",
   "execution_count": 10,
   "id": "b8396dab-8675-4bcf-acb0-208a7482735e",
   "metadata": {},
   "outputs": [],
   "source": [
    "df.drop(df.columns[len(df.columns)-1], axis=1, inplace=True)\n",
    "column_list = ['Total s', 'Total w']\n",
    "df[\"Combined Total\"] = df[column_list].sum(axis=1)"
   ]
  },
  {
   "cell_type": "markdown",
   "id": "3adeafbc-fd22-431f-a295-e75b76df2320",
   "metadata": {},
   "source": [
    "<p>\n",
    "    <br>\n",
    "    The final CSV file with cleaned data\n",
    "<hr>"
   ]
  },
  {
   "cell_type": "code",
   "execution_count": 11,
   "id": "81e4e571-5601-4786-9839-344e2bc18f43",
   "metadata": {},
   "outputs": [
    {
     "data": {
      "text/html": [
       "<div>\n",
       "<style scoped>\n",
       "    .dataframe tbody tr th:only-of-type {\n",
       "        vertical-align: middle;\n",
       "    }\n",
       "\n",
       "    .dataframe tbody tr th {\n",
       "        vertical-align: top;\n",
       "    }\n",
       "\n",
       "    .dataframe thead th {\n",
       "        text-align: right;\n",
       "    }\n",
       "</style>\n",
       "<table border=\"1\" class=\"dataframe\">\n",
       "  <thead>\n",
       "    <tr style=\"text-align: right;\">\n",
       "      <th></th>\n",
       "      <th>Country</th>\n",
       "      <th>Summer</th>\n",
       "      <th>01s</th>\n",
       "      <th>02s</th>\n",
       "      <th>03s</th>\n",
       "      <th>Total s</th>\n",
       "      <th>Winter</th>\n",
       "      <th>01w</th>\n",
       "      <th>02w</th>\n",
       "      <th>03w</th>\n",
       "      <th>Total w</th>\n",
       "      <th>Games</th>\n",
       "      <th>01g</th>\n",
       "      <th>02g</th>\n",
       "      <th>03g</th>\n",
       "      <th>Combined Total</th>\n",
       "    </tr>\n",
       "  </thead>\n",
       "  <tbody>\n",
       "    <tr>\n",
       "      <th>1</th>\n",
       "      <td>Afghanistan (AFG)</td>\n",
       "      <td>13.0</td>\n",
       "      <td>0.0</td>\n",
       "      <td>0.0</td>\n",
       "      <td>2.0</td>\n",
       "      <td>2.0</td>\n",
       "      <td>0.0</td>\n",
       "      <td>0.0</td>\n",
       "      <td>0.0</td>\n",
       "      <td>0.0</td>\n",
       "      <td>0.0</td>\n",
       "      <td>13.0</td>\n",
       "      <td>0.0</td>\n",
       "      <td>0.0</td>\n",
       "      <td>2.0</td>\n",
       "      <td>2.0</td>\n",
       "    </tr>\n",
       "    <tr>\n",
       "      <th>2</th>\n",
       "      <td>Algeria (ALG)</td>\n",
       "      <td>12.0</td>\n",
       "      <td>5.0</td>\n",
       "      <td>2.0</td>\n",
       "      <td>8.0</td>\n",
       "      <td>15.0</td>\n",
       "      <td>3.0</td>\n",
       "      <td>0.0</td>\n",
       "      <td>0.0</td>\n",
       "      <td>0.0</td>\n",
       "      <td>0.0</td>\n",
       "      <td>15.0</td>\n",
       "      <td>5.0</td>\n",
       "      <td>2.0</td>\n",
       "      <td>8.0</td>\n",
       "      <td>15.0</td>\n",
       "    </tr>\n",
       "    <tr>\n",
       "      <th>3</th>\n",
       "      <td>Argentina (ARG)</td>\n",
       "      <td>23.0</td>\n",
       "      <td>18.0</td>\n",
       "      <td>24.0</td>\n",
       "      <td>28.0</td>\n",
       "      <td>70.0</td>\n",
       "      <td>18.0</td>\n",
       "      <td>0.0</td>\n",
       "      <td>0.0</td>\n",
       "      <td>0.0</td>\n",
       "      <td>0.0</td>\n",
       "      <td>41.0</td>\n",
       "      <td>18.0</td>\n",
       "      <td>24.0</td>\n",
       "      <td>28.0</td>\n",
       "      <td>70.0</td>\n",
       "    </tr>\n",
       "    <tr>\n",
       "      <th>4</th>\n",
       "      <td>Armenia (ARM)</td>\n",
       "      <td>5.0</td>\n",
       "      <td>1.0</td>\n",
       "      <td>2.0</td>\n",
       "      <td>9.0</td>\n",
       "      <td>12.0</td>\n",
       "      <td>6.0</td>\n",
       "      <td>0.0</td>\n",
       "      <td>0.0</td>\n",
       "      <td>0.0</td>\n",
       "      <td>0.0</td>\n",
       "      <td>11.0</td>\n",
       "      <td>1.0</td>\n",
       "      <td>2.0</td>\n",
       "      <td>9.0</td>\n",
       "      <td>12.0</td>\n",
       "    </tr>\n",
       "    <tr>\n",
       "      <th>5</th>\n",
       "      <td>Australasia (ANZ) [ANZ]</td>\n",
       "      <td>2.0</td>\n",
       "      <td>3.0</td>\n",
       "      <td>4.0</td>\n",
       "      <td>5.0</td>\n",
       "      <td>12.0</td>\n",
       "      <td>0.0</td>\n",
       "      <td>0.0</td>\n",
       "      <td>0.0</td>\n",
       "      <td>0.0</td>\n",
       "      <td>0.0</td>\n",
       "      <td>2.0</td>\n",
       "      <td>3.0</td>\n",
       "      <td>4.0</td>\n",
       "      <td>5.0</td>\n",
       "      <td>12.0</td>\n",
       "    </tr>\n",
       "    <tr>\n",
       "      <th>...</th>\n",
       "      <td>...</td>\n",
       "      <td>...</td>\n",
       "      <td>...</td>\n",
       "      <td>...</td>\n",
       "      <td>...</td>\n",
       "      <td>...</td>\n",
       "      <td>...</td>\n",
       "      <td>...</td>\n",
       "      <td>...</td>\n",
       "      <td>...</td>\n",
       "      <td>...</td>\n",
       "      <td>...</td>\n",
       "      <td>...</td>\n",
       "      <td>...</td>\n",
       "      <td>...</td>\n",
       "      <td>...</td>\n",
       "    </tr>\n",
       "    <tr>\n",
       "      <th>143</th>\n",
       "      <td>Independent Olympic Participants (IOP) [IOP]</td>\n",
       "      <td>1.0</td>\n",
       "      <td>0.0</td>\n",
       "      <td>1.0</td>\n",
       "      <td>2.0</td>\n",
       "      <td>3.0</td>\n",
       "      <td>0.0</td>\n",
       "      <td>0.0</td>\n",
       "      <td>0.0</td>\n",
       "      <td>0.0</td>\n",
       "      <td>0.0</td>\n",
       "      <td>1.0</td>\n",
       "      <td>0.0</td>\n",
       "      <td>1.0</td>\n",
       "      <td>2.0</td>\n",
       "      <td>3.0</td>\n",
       "    </tr>\n",
       "    <tr>\n",
       "      <th>144</th>\n",
       "      <td>Zambia (ZAM) [ZAM]</td>\n",
       "      <td>12.0</td>\n",
       "      <td>0.0</td>\n",
       "      <td>1.0</td>\n",
       "      <td>1.0</td>\n",
       "      <td>2.0</td>\n",
       "      <td>0.0</td>\n",
       "      <td>0.0</td>\n",
       "      <td>0.0</td>\n",
       "      <td>0.0</td>\n",
       "      <td>0.0</td>\n",
       "      <td>12.0</td>\n",
       "      <td>0.0</td>\n",
       "      <td>1.0</td>\n",
       "      <td>1.0</td>\n",
       "      <td>2.0</td>\n",
       "    </tr>\n",
       "    <tr>\n",
       "      <th>145</th>\n",
       "      <td>Zimbabwe (ZIM) [ZIM]</td>\n",
       "      <td>12.0</td>\n",
       "      <td>3.0</td>\n",
       "      <td>4.0</td>\n",
       "      <td>1.0</td>\n",
       "      <td>8.0</td>\n",
       "      <td>1.0</td>\n",
       "      <td>0.0</td>\n",
       "      <td>0.0</td>\n",
       "      <td>0.0</td>\n",
       "      <td>0.0</td>\n",
       "      <td>13.0</td>\n",
       "      <td>3.0</td>\n",
       "      <td>4.0</td>\n",
       "      <td>1.0</td>\n",
       "      <td>8.0</td>\n",
       "    </tr>\n",
       "    <tr>\n",
       "      <th>146</th>\n",
       "      <td>Mixed team (ZZX) [ZZX]</td>\n",
       "      <td>3.0</td>\n",
       "      <td>8.0</td>\n",
       "      <td>5.0</td>\n",
       "      <td>4.0</td>\n",
       "      <td>17.0</td>\n",
       "      <td>0.0</td>\n",
       "      <td>0.0</td>\n",
       "      <td>0.0</td>\n",
       "      <td>0.0</td>\n",
       "      <td>0.0</td>\n",
       "      <td>3.0</td>\n",
       "      <td>8.0</td>\n",
       "      <td>5.0</td>\n",
       "      <td>4.0</td>\n",
       "      <td>17.0</td>\n",
       "    </tr>\n",
       "    <tr>\n",
       "      <th>Total</th>\n",
       "      <td>NaN</td>\n",
       "      <td>1954.0</td>\n",
       "      <td>4809.0</td>\n",
       "      <td>4775.0</td>\n",
       "      <td>5130.0</td>\n",
       "      <td>14714.0</td>\n",
       "      <td>963.0</td>\n",
       "      <td>959.0</td>\n",
       "      <td>958.0</td>\n",
       "      <td>948.0</td>\n",
       "      <td>2865.0</td>\n",
       "      <td>2917.0</td>\n",
       "      <td>5768.0</td>\n",
       "      <td>5733.0</td>\n",
       "      <td>6078.0</td>\n",
       "      <td>17579.0</td>\n",
       "    </tr>\n",
       "  </tbody>\n",
       "</table>\n",
       "<p>147 rows × 16 columns</p>\n",
       "</div>"
      ],
      "text/plain": [
       "                                            Country  Summer     01s     02s  \\\n",
       "1                                 Afghanistan (AFG)    13.0     0.0     0.0   \n",
       "2                                     Algeria (ALG)    12.0     5.0     2.0   \n",
       "3                                   Argentina (ARG)    23.0    18.0    24.0   \n",
       "4                                     Armenia (ARM)     5.0     1.0     2.0   \n",
       "5                           Australasia (ANZ) [ANZ]     2.0     3.0     4.0   \n",
       "...                                             ...     ...     ...     ...   \n",
       "143    Independent Olympic Participants (IOP) [IOP]     1.0     0.0     1.0   \n",
       "144                              Zambia (ZAM) [ZAM]    12.0     0.0     1.0   \n",
       "145                            Zimbabwe (ZIM) [ZIM]    12.0     3.0     4.0   \n",
       "146                          Mixed team (ZZX) [ZZX]     3.0     8.0     5.0   \n",
       "Total                                           NaN  1954.0  4809.0  4775.0   \n",
       "\n",
       "          03s  Total s  Winter    01w    02w    03w  Total w   Games     01g  \\\n",
       "1         2.0      2.0     0.0    0.0    0.0    0.0      0.0    13.0     0.0   \n",
       "2         8.0     15.0     3.0    0.0    0.0    0.0      0.0    15.0     5.0   \n",
       "3        28.0     70.0    18.0    0.0    0.0    0.0      0.0    41.0    18.0   \n",
       "4         9.0     12.0     6.0    0.0    0.0    0.0      0.0    11.0     1.0   \n",
       "5         5.0     12.0     0.0    0.0    0.0    0.0      0.0     2.0     3.0   \n",
       "...       ...      ...     ...    ...    ...    ...      ...     ...     ...   \n",
       "143       2.0      3.0     0.0    0.0    0.0    0.0      0.0     1.0     0.0   \n",
       "144       1.0      2.0     0.0    0.0    0.0    0.0      0.0    12.0     0.0   \n",
       "145       1.0      8.0     1.0    0.0    0.0    0.0      0.0    13.0     3.0   \n",
       "146       4.0     17.0     0.0    0.0    0.0    0.0      0.0     3.0     8.0   \n",
       "Total  5130.0  14714.0   963.0  959.0  958.0  948.0   2865.0  2917.0  5768.0   \n",
       "\n",
       "          02g     03g  Combined Total  \n",
       "1         0.0     2.0             2.0  \n",
       "2         2.0     8.0            15.0  \n",
       "3        24.0    28.0            70.0  \n",
       "4         2.0     9.0            12.0  \n",
       "5         4.0     5.0            12.0  \n",
       "...       ...     ...             ...  \n",
       "143       1.0     2.0             3.0  \n",
       "144       1.0     1.0             2.0  \n",
       "145       4.0     1.0             8.0  \n",
       "146       5.0     4.0            17.0  \n",
       "Total  5733.0  6078.0         17579.0  \n",
       "\n",
       "[147 rows x 16 columns]"
      ]
     },
     "execution_count": 11,
     "metadata": {},
     "output_type": "execute_result"
    }
   ],
   "source": [
    "df.to_csv((filename + \"Cleaned.csv\"), index=False)\n",
    "df"
   ]
  }
 ],
 "metadata": {
  "kernelspec": {
   "display_name": "Python 3",
   "language": "python",
   "name": "python3"
  },
  "language_info": {
   "codemirror_mode": {
    "name": "ipython",
    "version": 3
   },
   "file_extension": ".py",
   "mimetype": "text/x-python",
   "name": "python",
   "nbconvert_exporter": "python",
   "pygments_lexer": "ipython3",
   "version": "3.7.8"
  }
 },
 "nbformat": 4,
 "nbformat_minor": 5
}
