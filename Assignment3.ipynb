{
 "cells": [
  {
   "cell_type": "markdown",
   "id": "351a6be2-ec4d-4b2a-bc0c-fb3c7d6f2988",
   "metadata": {},
   "source": [
    "<h1>Assignment 3</h1>"
   ]
  },
  {
   "cell_type": "markdown",
   "id": "92cce332-ad48-44c5-94d6-004bf1177cf8",
   "metadata": {},
   "source": [
    "<p>\n",
    "    Name: Alberto Lucas <br>\n",
    "    Class: Cisprog-6<br>\n",
    "    Date: 11/26/2021 <br>\n",
    "    Description: Contains solutions to questions in assignment 3\n",
    "</p>\n",
    "<hr>"
   ]
  },
  {
   "cell_type": "code",
   "execution_count": 1,
   "id": "883887ce-585a-4808-ba77-fbf8b0f10ded",
   "metadata": {},
   "outputs": [],
   "source": [
    "import pandas as pd"
   ]
  },
  {
   "cell_type": "code",
   "execution_count": 2,
   "id": "f41173db-b8f0-420d-94ed-9cc0cafacf58",
   "metadata": {},
   "outputs": [],
   "source": [
    "# Load dataset\n",
    "df = pd.read_csv('imdb-1.csv')"
   ]
  },
  {
   "cell_type": "code",
   "execution_count": 3,
   "id": "cb70e549-cf5d-4f99-b115-7a2498a59a0c",
   "metadata": {},
   "outputs": [
    {
     "name": "stdout",
     "output_type": "stream",
     "text": [
      "Rating of the highest-rated movie: 9.2\n"
     ]
    }
   ],
   "source": [
    "# Q1: Find the rating of the highest-rated movie in the dataset.\n",
    "highestRating = df['Rating'].max()\n",
    "print(\"Rating of the highest-rated movie: \" + str(highestRating))"
   ]
  },
  {
   "cell_type": "code",
   "execution_count": 4,
   "id": "6043682f-a343-450c-b9b0-77276fa1a841",
   "metadata": {},
   "outputs": [
    {
     "name": "stdout",
     "output_type": "stream",
     "text": [
      "Earliest movie in the database: The Kid\n"
     ]
    }
   ],
   "source": [
    "# Q2: Find the earliest movie in the database\n",
    "earliestYear = df['Year'].min()\n",
    "earliestMovie = df[df['Year'] == earliestYear]['Title'].values[0]\n",
    "print(\"Earliest movie in the database: \" + earliestMovie)"
   ]
  },
  {
   "cell_type": "code",
   "execution_count": 5,
   "id": "69378076-1114-4be7-bf8d-f8c275d263b3",
   "metadata": {},
   "outputs": [
    {
     "data": {
      "text/html": [
       "<div>\n",
       "<style scoped>\n",
       "    .dataframe tbody tr th:only-of-type {\n",
       "        vertical-align: middle;\n",
       "    }\n",
       "\n",
       "    .dataframe tbody tr th {\n",
       "        vertical-align: top;\n",
       "    }\n",
       "\n",
       "    .dataframe thead th {\n",
       "        text-align: right;\n",
       "    }\n",
       "</style>\n",
       "<table border=\"1\" class=\"dataframe\">\n",
       "  <thead>\n",
       "    <tr style=\"text-align: right;\">\n",
       "      <th></th>\n",
       "      <th>Votes</th>\n",
       "      <th>Rating</th>\n",
       "      <th>Title</th>\n",
       "      <th>Year</th>\n",
       "      <th>Decade</th>\n",
       "    </tr>\n",
       "  </thead>\n",
       "  <tbody>\n",
       "    <tr>\n",
       "      <th>22</th>\n",
       "      <td>1027398</td>\n",
       "      <td>9.2</td>\n",
       "      <td>The Godfather</td>\n",
       "      <td>1972</td>\n",
       "      <td>1970</td>\n",
       "    </tr>\n",
       "    <tr>\n",
       "      <th>53</th>\n",
       "      <td>1498733</td>\n",
       "      <td>9.2</td>\n",
       "      <td>The Shawshank Redemption</td>\n",
       "      <td>1994</td>\n",
       "      <td>1990</td>\n",
       "    </tr>\n",
       "    <tr>\n",
       "      <th>91</th>\n",
       "      <td>692753</td>\n",
       "      <td>9.0</td>\n",
       "      <td>The Godfather: Part II</td>\n",
       "      <td>1974</td>\n",
       "      <td>1970</td>\n",
       "    </tr>\n",
       "    <tr>\n",
       "      <th>105</th>\n",
       "      <td>384187</td>\n",
       "      <td>8.9</td>\n",
       "      <td>12 Angry Men</td>\n",
       "      <td>1957</td>\n",
       "      <td>1950</td>\n",
       "    </tr>\n",
       "    <tr>\n",
       "      <th>57</th>\n",
       "      <td>447875</td>\n",
       "      <td>8.9</td>\n",
       "      <td>Il buono, il brutto, il cattivo (1966)</td>\n",
       "      <td>1966</td>\n",
       "      <td>1960</td>\n",
       "    </tr>\n",
       "    <tr>\n",
       "      <th>76</th>\n",
       "      <td>1473049</td>\n",
       "      <td>8.9</td>\n",
       "      <td>The Dark Knight</td>\n",
       "      <td>2008</td>\n",
       "      <td>2000</td>\n",
       "    </tr>\n",
       "    <tr>\n",
       "      <th>147</th>\n",
       "      <td>761224</td>\n",
       "      <td>8.9</td>\n",
       "      <td>Schindler's List</td>\n",
       "      <td>1993</td>\n",
       "      <td>1990</td>\n",
       "    </tr>\n",
       "    <tr>\n",
       "      <th>141</th>\n",
       "      <td>1074146</td>\n",
       "      <td>8.9</td>\n",
       "      <td>The Lord of the Rings: The Return of the King</td>\n",
       "      <td>2003</td>\n",
       "      <td>2000</td>\n",
       "    </tr>\n",
       "    <tr>\n",
       "      <th>224</th>\n",
       "      <td>1166532</td>\n",
       "      <td>8.9</td>\n",
       "      <td>Pulp Fiction</td>\n",
       "      <td>1994</td>\n",
       "      <td>1990</td>\n",
       "    </tr>\n",
       "    <tr>\n",
       "      <th>178</th>\n",
       "      <td>1099087</td>\n",
       "      <td>8.8</td>\n",
       "      <td>The Lord of the Rings: The Fellowship of the Ring</td>\n",
       "      <td>2001</td>\n",
       "      <td>2000</td>\n",
       "    </tr>\n",
       "    <tr>\n",
       "      <th>87</th>\n",
       "      <td>1177098</td>\n",
       "      <td>8.8</td>\n",
       "      <td>Fight Club</td>\n",
       "      <td>1999</td>\n",
       "      <td>1990</td>\n",
       "    </tr>\n",
       "    <tr>\n",
       "      <th>129</th>\n",
       "      <td>1073043</td>\n",
       "      <td>8.7</td>\n",
       "      <td>The Matrix</td>\n",
       "      <td>1999</td>\n",
       "      <td>1990</td>\n",
       "    </tr>\n",
       "    <tr>\n",
       "      <th>68</th>\n",
       "      <td>967389</td>\n",
       "      <td>8.7</td>\n",
       "      <td>The Lord of the Rings: The Two Towers</td>\n",
       "      <td>2002</td>\n",
       "      <td>2000</td>\n",
       "    </tr>\n",
       "    <tr>\n",
       "      <th>156</th>\n",
       "      <td>700283</td>\n",
       "      <td>8.7</td>\n",
       "      <td>Star Wars: Episode V - The Empire Strikes Back</td>\n",
       "      <td>1980</td>\n",
       "      <td>1980</td>\n",
       "    </tr>\n",
       "    <tr>\n",
       "      <th>189</th>\n",
       "      <td>770011</td>\n",
       "      <td>8.7</td>\n",
       "      <td>Star Wars</td>\n",
       "      <td>1977</td>\n",
       "      <td>1970</td>\n",
       "    </tr>\n",
       "    <tr>\n",
       "      <th>223</th>\n",
       "      <td>606395</td>\n",
       "      <td>8.7</td>\n",
       "      <td>One Flew Over the Cuckoo's Nest</td>\n",
       "      <td>1975</td>\n",
       "      <td>1970</td>\n",
       "    </tr>\n",
       "    <tr>\n",
       "      <th>81</th>\n",
       "      <td>1271949</td>\n",
       "      <td>8.7</td>\n",
       "      <td>Inception</td>\n",
       "      <td>2010</td>\n",
       "      <td>2010</td>\n",
       "    </tr>\n",
       "    <tr>\n",
       "      <th>103</th>\n",
       "      <td>644556</td>\n",
       "      <td>8.7</td>\n",
       "      <td>Goodfellas</td>\n",
       "      <td>1990</td>\n",
       "      <td>1990</td>\n",
       "    </tr>\n",
       "    <tr>\n",
       "      <th>98</th>\n",
       "      <td>206216</td>\n",
       "      <td>8.7</td>\n",
       "      <td>Shichinin no samurai</td>\n",
       "      <td>1954</td>\n",
       "      <td>1950</td>\n",
       "    </tr>\n",
       "    <tr>\n",
       "      <th>245</th>\n",
       "      <td>1078416</td>\n",
       "      <td>8.7</td>\n",
       "      <td>Forrest Gump</td>\n",
       "      <td>1994</td>\n",
       "      <td>1990</td>\n",
       "    </tr>\n",
       "  </tbody>\n",
       "</table>\n",
       "</div>"
      ],
      "text/plain": [
       "       Votes  Rating                                              Title  Year  \\\n",
       "22   1027398     9.2                                      The Godfather  1972   \n",
       "53   1498733     9.2                           The Shawshank Redemption  1994   \n",
       "91    692753     9.0                             The Godfather: Part II  1974   \n",
       "105   384187     8.9                                       12 Angry Men  1957   \n",
       "57    447875     8.9             Il buono, il brutto, il cattivo (1966)  1966   \n",
       "76   1473049     8.9                                    The Dark Knight  2008   \n",
       "147   761224     8.9                                   Schindler's List  1993   \n",
       "141  1074146     8.9      The Lord of the Rings: The Return of the King  2003   \n",
       "224  1166532     8.9                                       Pulp Fiction  1994   \n",
       "178  1099087     8.8  The Lord of the Rings: The Fellowship of the Ring  2001   \n",
       "87   1177098     8.8                                         Fight Club  1999   \n",
       "129  1073043     8.7                                         The Matrix  1999   \n",
       "68    967389     8.7              The Lord of the Rings: The Two Towers  2002   \n",
       "156   700283     8.7     Star Wars: Episode V - The Empire Strikes Back  1980   \n",
       "189   770011     8.7                                          Star Wars  1977   \n",
       "223   606395     8.7                    One Flew Over the Cuckoo's Nest  1975   \n",
       "81   1271949     8.7                                          Inception  2010   \n",
       "103   644556     8.7                                         Goodfellas  1990   \n",
       "98    206216     8.7                               Shichinin no samurai  1954   \n",
       "245  1078416     8.7                                       Forrest Gump  1994   \n",
       "\n",
       "     Decade  \n",
       "22     1970  \n",
       "53     1990  \n",
       "91     1970  \n",
       "105    1950  \n",
       "57     1960  \n",
       "76     2000  \n",
       "147    1990  \n",
       "141    2000  \n",
       "224    1990  \n",
       "178    2000  \n",
       "87     1990  \n",
       "129    1990  \n",
       "68     2000  \n",
       "156    1980  \n",
       "189    1970  \n",
       "223    1970  \n",
       "81     2010  \n",
       "103    1990  \n",
       "98     1950  \n",
       "245    1990  "
      ]
     },
     "execution_count": 5,
     "metadata": {},
     "output_type": "execute_result"
    }
   ],
   "source": [
    "# Q3: Sort the table by rating and show the top 20\n",
    "df.sort_values('Rating', ascending=False)[:20]\n"
   ]
  },
  {
   "cell_type": "code",
   "execution_count": 6,
   "id": "565c4bed-7c94-407e-ba46-25bfd072b60c",
   "metadata": {},
   "outputs": [
    {
     "name": "stdout",
     "output_type": "stream",
     "text": [
      "Average rating: 8.265600000000001\n"
     ]
    }
   ],
   "source": [
    "# Q4: Compute the average rating of movies\n",
    "averageRating = df['Rating'].mean()\n",
    "print(\"Average rating: \" + str(averageRating))"
   ]
  },
  {
   "cell_type": "code",
   "execution_count": 7,
   "id": "89f08979-bd9a-4eab-b8d6-6f8aefab9561",
   "metadata": {},
   "outputs": [
    {
     "name": "stdout",
     "output_type": "stream",
     "text": [
      "Average rating of movies from the 1940's: 8.233333333333333\n"
     ]
    }
   ],
   "source": [
    "# Q5: Compute the average rating of movies from the 1940s\n",
    "averageRating1940s = df[df['Year'] == 1940]['Rating'].mean()\n",
    "print(\"Average rating of movies from the 1940's: \" + str(averageRating1940s))"
   ]
  },
  {
   "cell_type": "code",
   "execution_count": 8,
   "id": "2c03170c-15dd-4bec-acc7-e481156463c4",
   "metadata": {},
   "outputs": [
    {
     "name": "stdout",
     "output_type": "stream",
     "text": [
      "       Votes  Rating            Title  Year  Decade\n",
      "87   1177098     8.8       Fight Club  1999    1990\n",
      "104   735056     8.4  American Beauty  1999    1990\n",
      "115   630994     8.1  The Sixth Sense  1999    1990\n",
      "129  1073043     8.7       The Matrix  1999    1990\n",
      "149   672878     8.5   The Green Mile  1999    1990\n"
     ]
    }
   ],
   "source": [
    "# Q6: Create a table called ninety_nine containing the movies that came out in the year 1999.\n",
    "ninety_nine = df[df['Year'] == 1999]\n",
    "print(ninety_nine)"
   ]
  },
  {
   "cell_type": "code",
   "execution_count": 9,
   "id": "374de8fe-46ee-4884-9e6d-99e6d4975ce1",
   "metadata": {},
   "outputs": [
    {
     "name": "stdout",
     "output_type": "stream",
     "text": [
      "       Votes  Rating                                              Title  Year  \\\n",
      "3     635139     8.6                                               Léon  1994   \n",
      "22   1027398     9.2                                      The Godfather  1972   \n",
      "47    767224     8.6                           The Silence of the Lambs  1991   \n",
      "53   1498733     9.2                           The Shawshank Redemption  1994   \n",
      "57    447875     8.9             Il buono, il brutto, il cattivo (1966)  1966   \n",
      "68    967389     8.7              The Lord of the Rings: The Two Towers  2002   \n",
      "70    689541     8.6                                       Interstellar  2014   \n",
      "76   1473049     8.9                                    The Dark Knight  2008   \n",
      "78    192206     8.6                            C'era una volta il West  1968   \n",
      "81   1271949     8.7                                          Inception  2010   \n",
      "87   1177098     8.8                                         Fight Club  1999   \n",
      "91    692753     9.0                             The Godfather: Part II  1974   \n",
      "96    656756     8.6                                 The Usual Suspects  1995   \n",
      "98    206216     8.7                               Shichinin no samurai  1954   \n",
      "103   644556     8.7                                         Goodfellas  1990   \n",
      "105   384187     8.9                                       12 Angry Men  1957   \n",
      "129  1073043     8.7                                         The Matrix  1999   \n",
      "141  1074146     8.9      The Lord of the Rings: The Return of the King  2003   \n",
      "147   761224     8.9                                   Schindler's List  1993   \n",
      "156   700283     8.7     Star Wars: Episode V - The Empire Strikes Back  1980   \n",
      "169   895411     8.6                                              Se7en  1995   \n",
      "178  1099087     8.8  The Lord of the Rings: The Fellowship of the Ring  2001   \n",
      "189   770011     8.7                                          Star Wars  1977   \n",
      "204   358305     8.6                                    La vita è bella  1997   \n",
      "213   242353     8.6                              It's a Wonderful Life  1946   \n",
      "223   606395     8.7                    One Flew Over the Cuckoo's Nest  1975   \n",
      "224  1166532     8.9                                       Pulp Fiction  1994   \n",
      "242   476501     8.6                                     Cidade de Deus  2002   \n",
      "245  1078416     8.7                                       Forrest Gump  1994   \n",
      "\n",
      "     Decade  \n",
      "3      1990  \n",
      "22     1970  \n",
      "47     1990  \n",
      "53     1990  \n",
      "57     1960  \n",
      "68     2000  \n",
      "70     2010  \n",
      "76     2000  \n",
      "78     1960  \n",
      "81     2010  \n",
      "87     1990  \n",
      "91     1970  \n",
      "96     1990  \n",
      "98     1950  \n",
      "103    1990  \n",
      "105    1950  \n",
      "129    1990  \n",
      "141    2000  \n",
      "147    1990  \n",
      "156    1980  \n",
      "169    1990  \n",
      "178    2000  \n",
      "189    1970  \n",
      "204    1990  \n",
      "213    1940  \n",
      "223    1970  \n",
      "224    1990  \n",
      "242    2000  \n",
      "245    1990  \n"
     ]
    }
   ],
   "source": [
    "# Q7: Find all the movies with a rating higher than 8.5. Put their data in a table called really_highly_rated\n",
    "really_highly_rated = df[df['Rating'] > 8.5]\n",
    "print(really_highly_rated)"
   ]
  },
  {
   "cell_type": "code",
   "execution_count": 10,
   "id": "08cb871e-e7f9-48af-aaf5-352468230fe0",
   "metadata": {},
   "outputs": [
    {
     "name": "stdout",
     "output_type": "stream",
     "text": [
      "Average rating of movies released in the 20th century: 8.274208144796381\n",
      "Average rating of movies released in the 21st century: 8.200000000000001\n"
     ]
    }
   ],
   "source": [
    "# Q8: Find the average rating for movies released in the 20th century and the average rating for movies released \n",
    "# in the 21st century for the movies in imdb.\n",
    "average20thCentury = df[(df['Decade'] > 1900) & (df['Decade'] <= 2000)]['Rating'].mean()\n",
    "average21stCentury = df[df['Decade'] > 2000]['Rating'].mean()\n",
    "\n",
    "print(\"Average rating of movies released in the 20th century: \" + str(average20thCentury))\n",
    "print(\"Average rating of movies released in the 21st century: \" + str(average21stCentury))"
   ]
  },
  {
   "cell_type": "code",
   "execution_count": 11,
   "id": "12be06d0-c658-445d-a02a-92dc9ef0317a",
   "metadata": {},
   "outputs": [
    {
     "name": "stdout",
     "output_type": "stream",
     "text": [
      "Proportion of movies released in the 20th century: 0.884\n",
      "Proportion of movies released in the 21st century: 0.116\n"
     ]
    }
   ],
   "source": [
    "# Q9: Use number of rows and arithmetic to find the proportion of movies in the dataset that were released in \n",
    "# the 20th century, and the proportion from the 21st century.\n",
    "\n",
    "# 20th Century\n",
    "totalCentury = len(df[df['Decade'].between(1901, 2000)])\n",
    "proportion = totalCentury / len(df)\n",
    "print(\"Proportion of movies released in the 20th century: \" + str(proportion))\n",
    "\n",
    "# 21st Century\n",
    "totalCentury = len(df[df['Decade'] > 2000])\n",
    "proportion = totalCentury / len(df)\n",
    "print(\"Proportion of movies released in the 21st century: \" + str(proportion))"
   ]
  }
 ],
 "metadata": {
  "kernelspec": {
   "display_name": "Python 3",
   "language": "python",
   "name": "python3"
  },
  "language_info": {
   "codemirror_mode": {
    "name": "ipython",
    "version": 3
   },
   "file_extension": ".py",
   "mimetype": "text/x-python",
   "name": "python",
   "nbconvert_exporter": "python",
   "pygments_lexer": "ipython3",
   "version": "3.7.8"
  }
 },
 "nbformat": 4,
 "nbformat_minor": 5
}
