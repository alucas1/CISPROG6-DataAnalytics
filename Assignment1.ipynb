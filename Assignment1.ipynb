{
 "cells": [
  {
   "cell_type": "markdown",
   "metadata": {},
   "source": [
    "<h1>Assignment 1</h1>"
   ]
  },
  {
   "cell_type": "markdown",
   "metadata": {},
   "source": [
    "<p>\n",
    "    Name: Alberto Lucas <br>\n",
    "    Class: Cisprog-6<br>\n",
    "    Assignment: 1 - Using Jupyter Notebooks <br>\n",
    "    Date: 11/08/2021 <br>\n",
    "    Description: Using the data from Discussion 2, create a Jupyter Notebook that shows the code, the data (tables), and the discussion results that were listed in options A, B, C, and D \n",
    "</p>\n",
    "<hr>"
   ]
  },
  {
   "cell_type": "raw",
   "metadata": {},
   "source": [
    "%%bash\n",
    "\n",
    "#Note - Convert this cell from raw to code if tabulate is not installed\n",
    "pip install tabulate"
   ]
  },
  {
   "cell_type": "code",
   "execution_count": 1,
   "metadata": {},
   "outputs": [],
   "source": [
    "from tabulate import tabulate"
   ]
  },
  {
   "cell_type": "code",
   "execution_count": 2,
   "metadata": {},
   "outputs": [],
   "source": [
    "#Staff Table\n",
    "staffTable = [\n",
    "    [\"Name\", \"Year\", \"Semesters on Staff\"],\n",
    "    [\"Rita\",4,7],\n",
    "    [\"Natalie\",4,7],\n",
    "    [\"Prasann\",3,3],\n",
    "    [\"Ashwin\",2,3],\n",
    "    [\"Haru\",3,3],\n",
    "    [\"Wendy\",3,3],\n",
    "    [\"Jackie\",4,7],\n",
    "    [\"Vivrd\",2,3],\n",
    "    [\"Olivia\",4,4],\n",
    "    [\"Vishnu\",4,3],\n",
    "    [\"Peter\",2,2],\n",
    "    [\"Kyle\",3,3],\n",
    "    [\"Jessie\",4,5],\n",
    "    [\"Oscar\",3,3],\n",
    "    [\"Yanay\",4,9],\n",
    "    [\"Eddie\",3,4],\n",
    "    [\"Katherine\",4,10],\n",
    "    [\"Mei\",3,2],\n",
    "    [\"Rohan\",3,2],\n",
    "    [\"Noah\",2,2],\n",
    "    [\"Sarah\",3,2],\n",
    "    [\"Grace\",4,3],\n",
    "    [\"Ellen\",4,5]]"
   ]
  },
  {
   "cell_type": "code",
   "execution_count": 3,
   "metadata": {},
   "outputs": [
    {
     "name": "stdout",
     "output_type": "stream",
     "text": [
      "╒═══════════╤════════╤══════════════════════╕\n",
      "│ Name      │   Year │   Semesters on Staff │\n",
      "╞═══════════╪════════╪══════════════════════╡\n",
      "│ Rita      │      4 │                    7 │\n",
      "├───────────┼────────┼──────────────────────┤\n",
      "│ Natalie   │      4 │                    7 │\n",
      "├───────────┼────────┼──────────────────────┤\n",
      "│ Prasann   │      3 │                    3 │\n",
      "├───────────┼────────┼──────────────────────┤\n",
      "│ Ashwin    │      2 │                    3 │\n",
      "├───────────┼────────┼──────────────────────┤\n",
      "│ Haru      │      3 │                    3 │\n",
      "├───────────┼────────┼──────────────────────┤\n",
      "│ Wendy     │      3 │                    3 │\n",
      "├───────────┼────────┼──────────────────────┤\n",
      "│ Jackie    │      4 │                    7 │\n",
      "├───────────┼────────┼──────────────────────┤\n",
      "│ Vivrd     │      2 │                    3 │\n",
      "├───────────┼────────┼──────────────────────┤\n",
      "│ Olivia    │      4 │                    4 │\n",
      "├───────────┼────────┼──────────────────────┤\n",
      "│ Vishnu    │      4 │                    3 │\n",
      "├───────────┼────────┼──────────────────────┤\n",
      "│ Peter     │      2 │                    2 │\n",
      "├───────────┼────────┼──────────────────────┤\n",
      "│ Kyle      │      3 │                    3 │\n",
      "├───────────┼────────┼──────────────────────┤\n",
      "│ Jessie    │      4 │                    5 │\n",
      "├───────────┼────────┼──────────────────────┤\n",
      "│ Oscar     │      3 │                    3 │\n",
      "├───────────┼────────┼──────────────────────┤\n",
      "│ Yanay     │      4 │                    9 │\n",
      "├───────────┼────────┼──────────────────────┤\n",
      "│ Eddie     │      3 │                    4 │\n",
      "├───────────┼────────┼──────────────────────┤\n",
      "│ Katherine │      4 │                   10 │\n",
      "├───────────┼────────┼──────────────────────┤\n",
      "│ Mei       │      3 │                    2 │\n",
      "├───────────┼────────┼──────────────────────┤\n",
      "│ Rohan     │      3 │                    2 │\n",
      "├───────────┼────────┼──────────────────────┤\n",
      "│ Noah      │      2 │                    2 │\n",
      "├───────────┼────────┼──────────────────────┤\n",
      "│ Sarah     │      3 │                    2 │\n",
      "├───────────┼────────┼──────────────────────┤\n",
      "│ Grace     │      4 │                    3 │\n",
      "├───────────┼────────┼──────────────────────┤\n",
      "│ Ellen     │      4 │                    5 │\n",
      "╘═══════════╧════════╧══════════════════════╛\n"
     ]
    }
   ],
   "source": [
    "#Outputting Staff Table\n",
    "print(tabulate(staffTable, headers='firstrow', tablefmt='fancy_grid'))"
   ]
  },
  {
   "cell_type": "markdown",
   "metadata": {},
   "source": [
    "<h3>Table A</h3>\n",
    "<hr>"
   ]
  },
  {
   "cell_type": "code",
   "execution_count": 4,
   "metadata": {},
   "outputs": [
    {
     "name": "stdout",
     "output_type": "stream",
     "text": [
      "╒════════╤══════════════════════╕\n",
      "│   Year │   Semesters on Staff │\n",
      "╞════════╪══════════════════════╡\n",
      "│      2 │              2.5     │\n",
      "├────────┼──────────────────────┤\n",
      "│      3 │              2.77778 │\n",
      "├────────┼──────────────────────┤\n",
      "│      4 │              6       │\n",
      "╘════════╧══════════════════════╛\n"
     ]
    }
   ],
   "source": [
    "#Creating Table A\n",
    "dict = {}\n",
    "\n",
    "#Count frequency of semesters\n",
    "for row in staffTable[1:]:\n",
    "    if row[1] in dict.keys():\n",
    "        dict[row[1]][0] += 1\n",
    "        dict[row[1]][1] += row[2]\n",
    "    else:\n",
    "        dict[row[1]] = [1, row[2]]\n",
    "\n",
    "#Take averages and add data to table A\n",
    "tableA = []\n",
    "for key in dict:\n",
    "    avg = dict[key][1] / dict[key][0]\n",
    "    tableA.append([key, avg])\n",
    "\n",
    "#Sort table by first element of each list\n",
    "tableA = sorted(tableA, key=lambda x: x[0])\n",
    "\n",
    "#Output table\n",
    "print(tabulate(tableA, headers=['Year', 'Semesters on Staff'], tablefmt='fancy_grid'))"
   ]
  },
  {
   "cell_type": "markdown",
   "metadata": {},
   "source": [
    "<h3>Table B</h3>\n",
    "<hr>"
   ]
  },
  {
   "cell_type": "code",
   "execution_count": 5,
   "metadata": {},
   "outputs": [
    {
     "name": "stdout",
     "output_type": "stream",
     "text": [
      "╒════════╤═══════════╕\n",
      "│ Name   │ Year      │\n",
      "╞════════╪═══════════╡\n",
      "│ Ashwin │ Sophomore │\n",
      "├────────┼───────────┤\n",
      "│ Vivrd  │ Sophomore │\n",
      "├────────┼───────────┤\n",
      "│ Peter  │ Sophomore │\n",
      "├────────┼───────────┤\n",
      "│ Noah   │ Sophomore │\n",
      "╘════════╧═══════════╛\n"
     ]
    }
   ],
   "source": [
    "#Creating Table B\n",
    "tableB = []\n",
    "\n",
    "#Filter staff table and change year 2 to Sophomore\n",
    "for row in staffTable[1:]:\n",
    "    if row[1] == 2:\n",
    "        tableB.append([row[0], 'Sophomore'])\n",
    "\n",
    "#Print table\n",
    "print(tabulate(tableB, headers=['Name', 'Year'], tablefmt='fancy_grid'))"
   ]
  },
  {
   "cell_type": "markdown",
   "metadata": {},
   "source": [
    "<h3>Table C</h3>\n",
    "<hr>"
   ]
  },
  {
   "cell_type": "code",
   "execution_count": 6,
   "metadata": {},
   "outputs": [
    {
     "name": "stdout",
     "output_type": "stream",
     "text": [
      "Semesters on Staff Vs. Year\n",
      "\n",
      "10  -    -    -    -    *    \n",
      "9   -    -    -    -    *    \n",
      "8   -    -    -    -    -    \n",
      "7   -    -    -    -    *    \n",
      "6   -    -    -    -    -    \n",
      "5   -    -    -    -    *    \n",
      "4   -    -    *    -    *    \n",
      "3   *    -    *    -    *    \n",
      "2   *    -    *    -    -    \n",
      "   2.0  2.5  3.0  3.5  4.0"
     ]
    }
   ],
   "source": [
    "#Creating Table C\n",
    "maxSemesters = 10\n",
    "minSemesters = 2\n",
    "\n",
    "#Filter data in Staff table into a set to remove duplicate coordinates\n",
    "plots = set()\n",
    "for row in staffTable[1:]:\n",
    "    plots.add((row[1], row[2]))\n",
    "\n",
    "#Plot data\n",
    "print(\"Semesters on Staff Vs. Year\\n\")\n",
    "for y in range(minSemesters, maxSemesters + 1):\n",
    "    #Print leftmost column\n",
    "    print('{0: <4}'.format(str(maxSemesters - y + minSemesters)), end='')\n",
    "\n",
    "    #Print data on each row\n",
    "    xVal = 2.0\n",
    "    for x in range(5):\n",
    "        if ((xVal, maxSemesters - y + minSemesters) in plots):\n",
    "            print('{0: <5}'.format('*'), end='')\n",
    "        else:\n",
    "            print('{0: <5}'.format('-'), end='')\n",
    "        xVal += 0.5\n",
    "    print()\n",
    "\n",
    "#Print bottom row\n",
    "xVal = 2.0\n",
    "print('{0: >6}'.format(xVal), end='')\n",
    "for x in range(4):\n",
    "    xVal += 0.5\n",
    "    print('{0: >5}'.format(xVal), end='')    "
   ]
  },
  {
   "cell_type": "markdown",
   "metadata": {},
   "source": [
    "<h3>Table D</h3>\n",
    "<hr>"
   ]
  },
  {
   "cell_type": "code",
   "execution_count": 7,
   "metadata": {},
   "outputs": [
    {
     "name": "stdout",
     "output_type": "stream",
     "text": [
      "╒══════════════════════╤═════╤═════╤═════╕\n",
      "│   Semesters on Staff │   2 │   3 │   4 │\n",
      "╞══════════════════════╪═════╪═════╪═════╡\n",
      "│                    2 │   2 │   3 │   0 │\n",
      "├──────────────────────┼─────┼─────┼─────┤\n",
      "│                    3 │   2 │   5 │   2 │\n",
      "├──────────────────────┼─────┼─────┼─────┤\n",
      "│                    4 │   0 │   1 │   1 │\n",
      "├──────────────────────┼─────┼─────┼─────┤\n",
      "│                    5 │   0 │   0 │   2 │\n",
      "├──────────────────────┼─────┼─────┼─────┤\n",
      "│                    7 │   0 │   0 │   3 │\n",
      "├──────────────────────┼─────┼─────┼─────┤\n",
      "│                    9 │   0 │   0 │   1 │\n",
      "├──────────────────────┼─────┼─────┼─────┤\n",
      "│                   10 │   0 │   0 │   1 │\n",
      "╘══════════════════════╧═════╧═════╧═════╛\n"
     ]
    }
   ],
   "source": [
    "#Create Table D\n",
    "tableD = []\n",
    "\n",
    "#Populate Table with 0's\n",
    "for i in range(minSemesters, maxSemesters + 1):\n",
    "    tableD.append([i, 0, 0, 0])\n",
    "\n",
    "#Check each row in staff table and update Table D with data\n",
    "for row in staffTable[1:]:\n",
    "    tableD[row[2] - minSemesters][row[1] - 1] += 1\n",
    "\n",
    "#Remove all empty rows\n",
    "tableD = list(filter(lambda x: not(x[1] == 0 and x[2] == 0 and x[3] == 0), tableD))\n",
    "\n",
    "#Print table\n",
    "print(tabulate(tableD, headers=['Semesters on Staff', '2', '3', '4'], tablefmt='fancy_grid'))"
   ]
  }
 ],
 "metadata": {
  "interpreter": {
   "hash": "ac59ebe37160ed0dfa835113d9b8498d9f09ceb179beaac4002f036b9467c963"
  },
  "kernelspec": {
   "display_name": "Python 3",
   "language": "python",
   "name": "python3"
  },
  "language_info": {
   "codemirror_mode": {
    "name": "ipython",
    "version": 3
   },
   "file_extension": ".py",
   "mimetype": "text/x-python",
   "name": "python",
   "nbconvert_exporter": "python",
   "pygments_lexer": "ipython3",
   "version": "3.6.13"
  }
 },
 "nbformat": 4,
 "nbformat_minor": 2
}
